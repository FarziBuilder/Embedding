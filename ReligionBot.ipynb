{
  "cells": [
    {
      "cell_type": "code",
      "execution_count": null,
      "metadata": {
        "colab": {
          "base_uri": "https://localhost:8080/"
        },
        "id": "yYA_LZTju-EA",
        "outputId": "380b8781-ef7a-4789-de67-f7b3f56607e7"
      },
      "outputs": [],
      "source": [
        "!pip install -qU openai pinecone-client datasets pinecone-client pyarrow"
      ]
    },
    {
      "cell_type": "code",
      "execution_count": 60,
      "metadata": {
        "colab": {
          "base_uri": "https://localhost:8080/"
        },
        "id": "Op_7IlgCvDe2",
        "outputId": "f28b0f9a-c52a-4e3a-9407-5e39792e3ae0"
      },
      "outputs": [],
      "source": [
        "import openai, pinecone, os\n",
        "import pandas as pd\n",
        "from dotenv import load_dotenv\n",
        "import os\n",
        "\n",
        "load_dotenv()\n",
        "# get API key from top-right dropdown on OpenAI website\n",
        "openai.api_key = os.getenv(\"API_KEY\")"
      ]
    },
    {
      "cell_type": "code",
      "execution_count": null,
      "metadata": {
        "id": "e9a7gCqivFr_"
      },
      "outputs": [],
      "source": [
        "pinecone.init(\n",
        "\tapi_key='90e334e8-7457-4a5c-a336-0d730e3a6606',\n",
        "\tenvironment='us-west4-gcp-free'\n",
        ")\n",
        "index = pinecone.Index('hadid')"
      ]
    },
    {
      "cell_type": "code",
      "execution_count": null,
      "metadata": {
        "id": "9HUQ3-O-vKl8"
      },
      "outputs": [],
      "source": [
        "embed_model = \"text-embedding-ada-002\""
      ]
    },
    {
      "cell_type": "code",
      "execution_count": null,
      "metadata": {
        "id": "9SCbas1jWEKo"
      },
      "outputs": [],
      "source": [
        "################\n",
        "#This loads the embedding and puts it in pinecone"
      ]
    },
    {
      "cell_type": "code",
      "execution_count": null,
      "metadata": {
        "id": "7KdCngna5F31"
      },
      "outputs": [],
      "source": [
        "file_path = 'E:\\MyWorks\\ReligionBotTry2\\Embedding\\hadith_correct_order.parquet'\n",
        "data = pd.read_parquet(file_path)"
      ]
    },
    {
      "cell_type": "code",
      "execution_count": null,
      "metadata": {
        "colab": {
          "base_uri": "https://localhost:8080/",
          "height": 144
        },
        "id": "TMmGrj2o5MLI",
        "outputId": "f9ca18f8-2e1b-4cec-ed42-5b53b6c99dd6"
      },
      "outputs": [],
      "source": [
        "data[:3]"
      ]
    },
    {
      "cell_type": "code",
      "execution_count": null,
      "metadata": {
        "colab": {
          "base_uri": "https://localhost:8080/"
        },
        "id": "plHwv7xR57Ft",
        "outputId": "8c39d76b-2d36-4361-d902-17244dc10e43"
      },
      "outputs": [],
      "source": [
        "# Create a list of (id, vector, metadata) tuples\n",
        "list = [{'text':text} for text in data[\"Text\"]]\n",
        "\n",
        "vectors_to_upsert = [(str(index), row[\"Embedding\"].tolist()) for index, row in data.iterrows()]\n",
        "\n",
        "# Upsert the vectors\n",
        "index.upsert(vectors_to_upsert)\n"
      ]
    },
    {
      "cell_type": "code",
      "execution_count": null,
      "metadata": {},
      "outputs": [],
      "source": [
        "import itertools\n",
        "\n",
        "# Define the chunking function\n",
        "def chunks(iterable, batch_size=100):\n",
        "    it = iter(iterable)\n",
        "    chunk = tuple(itertools.islice(it, batch_size))\n",
        "    while chunk:\n",
        "        yield chunk\n",
        "        chunk = tuple(itertools.islice(it, batch_size))\n",
        "\n",
        "# Your existing data processing\n",
        "vectors_to_upsert = [(str(index), row[\"Embedding\"].tolist()) for index, row in data.iterrows()]\n",
        "\n",
        "# Perform the upsert in chunks\n",
        "for ids_vectors_chunk in chunks(vectors_to_upsert, batch_size=100):\n",
        "    index.upsert(vectors=ids_vectors_chunk)"
      ]
    },
    {
      "cell_type": "code",
      "execution_count": null,
      "metadata": {
        "id": "JSKjEa6EWWVC"
      },
      "outputs": [],
      "source": [
        "######\n",
        "#api call w/ context now"
      ]
    },
    {
      "cell_type": "code",
      "execution_count": 59,
      "metadata": {
        "id": "PPYA4gbWWYPH"
      },
      "outputs": [
        {
          "name": "stdout",
          "output_type": "stream",
          "text": [
            "According to the teachings of the Prophet Muhammad (p.b.u.h), everyone finds it easy to do those good deeds that lead them to their destined place for which they have been created. Furthermore, he suggests seeking guidance from Allah in this process by offering a two Rakat prayer and praying to be guided to the actions that are good for you and to be kept away from harm.\n",
            "Consider these verses in Hadis \n",
            "I said, \"O Allah's Apostle! Why should a doer (people) try to do good deeds?' The Prophet said, \"Everybody will find easy to do such deeds as will lead him to his destined place for which he has been created.'\n",
            "The Prophet (p.b.u.h) used to teach us the way of doing Istikhara (Istikhara means to ask Allah to guide one to the right sort of action concerning any job or a deed), in all matters as he taught us the Suras of the Quran. He said, \"If anyone of you thinks of doing any job he should offer a two Rakat prayer other than the compulsory ones and say (after the prayer): -- 'Allahumma inni astakhiruka bi'ilmika, Wa astaqdiruka bi-qudratika, Wa as'alaka min fadlika al-'azlm Fa-innaka taqdiru Wala aqdiru, Wa ta'lamu Wala a'lamu, Wa anta 'allamu l-ghuyub. Allahumma, in kunta ta'lam anna hadha-l-amra Khairun li fi dini wa ma'ashi wa'aqibati amri (or 'ajili amri wa'ajilihi) Faqdirhu wa yas-sirhu li thumma barik li Fihi, Wa in kunta ta'lamu anna hadha-lamra shar-run li fi dini wa ma'ashi wa'aqibati amri (or fi'ajili amri wa ajilihi) Fasrifhu anni was-rifni anhu. Waqdir li al-khaira haithu kana Thumma ardini bihi.' (O Allah! I ask guidance from Your knowledge, And Power from Your Might and I ask for Your great blessings. You are capable and I am not. You know and I do not and You know the unseen. O Allah! If You know that this job is good for my religion and my subsistence and in my Hereafter--(or said: If it is better for my present and later needs)--Then You ordain it for me and make it easy for me to get, And then bless me in it, and if You know that this job is harmful to me In my religion and subsistence and in the Hereafter--(or said: If it is worse for my present and later needs)--Then keep it away from me and let me be away from it. And ordain for me whatever is good for me, And make me satisfied with it). The Prophet added that then the person should name (mention) his need.\n",
            "As-Salami: Allah's Apostle used to teach his companions to perform the prayer of Istikhara for each and every matter just as he used to teach them the Suras from the Quran He used to say, \"If anyone of you intends to do some thing, he should offer a two rakat prayer other than the compulsory prayers, and after finishing it, he should say: O Allah! I consult You, for You have all knowledge, and appeal to You to support me with Your Power and ask for Your Bounty, for You are able to do things while I am not, and You know while I do not; and You are the Knower of the Unseen. O Allah If You know It this matter (name your matter) is good for me both at present and in the future, (or in my religion), in my this life and in the Hereafter, then fulfill it for me and make it easy for me, and then bestow Your Blessings on me in that matter. O Allah! If You know that this matter is not good for me in my religion, in my this life and in my coming Hereafter (or at present or in the future), then divert me from it and choose for me what is good wherever it may be, and make me be pleased with it.\" (See Hadith No. 391, Vol. 8)\n"
          ]
        }
      ],
      "source": [
        "text = input(\"What troubles you?\")\n",
        "res = openai.Embedding.create(input=[text], engine=embed_model)\n",
        "xq = res['data'][0]['embedding']\n",
        "ok = index.query(xq, top_k=3,include_values=True, include_metadata=True)\n",
        "\n",
        "contexts = []\n",
        "for match in ok['matches']:\n",
        "    id_num = int(match['id'])\n",
        "    contexts.append(data.iloc[id_num][\"Text\"])\n",
        "\n",
        "context = \" \".join(contexts)\n",
        "completion = openai.ChatCompletion.create(\n",
        "  model=\"gpt-4-32k\",\n",
        "  messages=[\n",
        "    {\"role\": \"system\", \"content\": f\"You have been given the context of Islamic Book of hadis. User will ask you questions. Based on the given context, give a straight intelligent 2 sentence answer after understanding the context {context}. Give straight answer\"},\n",
        "    {\"role\": \"user\", \"content\": text}\n",
        "  ]\n",
        ")\n",
        "\n",
        "print(completion.choices[0].message[\"content\"] + '\\n' + \"Consider these verses in Hadis \" + \"\\n\" + contexts[0] + \"\\n\" + contexts[1] + \"\\n\" + contexts[2])"
      ]
    }
  ],
  "metadata": {
    "colab": {
      "provenance": []
    },
    "kernelspec": {
      "display_name": "Python 3",
      "name": "python3"
    },
    "language_info": {
      "codemirror_mode": {
        "name": "ipython",
        "version": 3
      },
      "file_extension": ".py",
      "mimetype": "text/x-python",
      "name": "python",
      "nbconvert_exporter": "python",
      "pygments_lexer": "ipython3",
      "version": "3.9.13"
    }
  },
  "nbformat": 4,
  "nbformat_minor": 0
}
